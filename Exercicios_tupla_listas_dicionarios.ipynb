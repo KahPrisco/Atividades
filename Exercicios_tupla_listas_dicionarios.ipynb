{
  "nbformat": 4,
  "nbformat_minor": 0,
  "metadata": {
    "colab": {
      "provenance": []
    },
    "kernelspec": {
      "name": "python3",
      "display_name": "Python 3"
    },
    "language_info": {
      "name": "python"
    }
  },
  "cells": [
    {
      "cell_type": "markdown",
      "source": [
        "## **Tupla:** Crie uma tupla com 5 números inteiros e calcule a soma desses números."
      ],
      "metadata": {
        "id": "oGVQ65J-vu2p"
      }
    },
    {
      "cell_type": "code",
      "execution_count": null,
      "metadata": {
        "colab": {
          "base_uri": "https://localhost:8080/"
        },
        "id": "Aj9JO6Hnvk8A",
        "outputId": "babda3c1-617e-4697-ea1d-45a5006bbadb"
      },
      "outputs": [
        {
          "output_type": "stream",
          "name": "stdout",
          "text": [
            "<class 'tuple'>\n"
          ]
        },
        {
          "output_type": "execute_result",
          "data": {
            "text/plain": [
              "35"
            ]
          },
          "metadata": {},
          "execution_count": 9
        }
      ],
      "source": [
        "numeros = (5,4,11,6,9)\n",
        "print(type(numeros))\n",
        "sum(numeros)\n"
      ]
    },
    {
      "cell_type": "markdown",
      "source": [
        "## **Lista:** Crie uma lista com 5 nomes e acesse o segundo e o quarto nome dessa lista."
      ],
      "metadata": {
        "id": "LhLBCOioySjz"
      }
    },
    {
      "cell_type": "code",
      "source": [
        "lista_nomes = ['Kauane','Matheus','Stelinha','Arthur','João']\n",
        "print(lista_nomes)\n",
        "print(f' Segundo nome da lista é: {lista_nomes[1]}')\n",
        "print(f' Quarto nome da lista é: {lista_nomes[3]}')"
      ],
      "metadata": {
        "colab": {
          "base_uri": "https://localhost:8080/"
        },
        "id": "SAzrNTNMydn0",
        "outputId": "e742ce59-dd23-4503-b595-cd612e99517a"
      },
      "execution_count": null,
      "outputs": [
        {
          "output_type": "stream",
          "name": "stdout",
          "text": [
            "['Kauane', 'Matheus', 'Stelinha', 'Arthur', 'João']\n",
            " Segundo nome da lista é: Matheus\n",
            " Quarto nome da lista é: Arthur\n"
          ]
        }
      ]
    },
    {
      "cell_type": "markdown",
      "source": [
        "## **Dicionário:** Crie um dicionário com 3 pares chave-valor e acesse o valor de uma chave específica."
      ],
      "metadata": {
        "id": "enRebFuo0if9"
      }
    },
    {
      "cell_type": "code",
      "source": [
        "morador = {\n",
        "    'nome':'Kauane',\n",
        "    'apartamento':15,\n",
        "    'Placa do carro': '123DIT'}\n",
        "print(type(morador))\n",
        "\n",
        "morador.get('apartamento')"
      ],
      "metadata": {
        "colab": {
          "base_uri": "https://localhost:8080/"
        },
        "id": "dQFJ2DTj0pxH",
        "outputId": "26db32b6-08eb-4f08-bfca-f1a517847f1c"
      },
      "execution_count": null,
      "outputs": [
        {
          "output_type": "stream",
          "name": "stdout",
          "text": [
            "<class 'dict'>\n"
          ]
        },
        {
          "output_type": "execute_result",
          "data": {
            "text/plain": [
              "15"
            ]
          },
          "metadata": {},
          "execution_count": 22
        }
      ]
    },
    {
      "cell_type": "markdown",
      "source": [
        "##**Lista:** Crie uma lista com 6 números e calcule a média desses números."
      ],
      "metadata": {
        "id": "zwnrfOpi1qBG"
      }
    },
    {
      "cell_type": "code",
      "source": [
        "numeros_lista = [2,4,6,8,10,12]\n",
        "media = sum(numeros_lista)/ len(numeros_lista)\n",
        "print(media)"
      ],
      "metadata": {
        "colab": {
          "base_uri": "https://localhost:8080/"
        },
        "id": "q83GNx7o3h1c",
        "outputId": "325e8949-24c8-49e3-f3e0-104a79dadf43"
      },
      "execution_count": null,
      "outputs": [
        {
          "output_type": "stream",
          "name": "stdout",
          "text": [
            "7.0\n"
          ]
        }
      ]
    },
    {
      "cell_type": "markdown",
      "source": [
        "##**Dicionário:** Crie um dicionário com 4 pares chave-valor e adicione uma nova chave com um valor ao dicionário."
      ],
      "metadata": {
        "id": "ciDxWEGV30yC"
      }
    },
    {
      "cell_type": "code",
      "source": [
        "\n",
        "cliente = {\n",
        "    'cor':'Amarelo',\n",
        "    'carro':'polo',\n",
        "    'moradia': 'casa',\n",
        "    'fruta':'maracuja' }\n",
        "print(type(cliente))\n",
        "\n",
        "cliente['brinquedo'] = 'bola'\n",
        "\n",
        "print(cliente)"
      ],
      "metadata": {
        "colab": {
          "base_uri": "https://localhost:8080/"
        },
        "id": "gHJ2kJhz3951",
        "outputId": "9a068038-db3a-4b1b-cf7c-103401037ce0"
      },
      "execution_count": null,
      "outputs": [
        {
          "output_type": "stream",
          "name": "stdout",
          "text": [
            "<class 'dict'>\n",
            "{'cor': 'Amarelo', 'carro': 'polo', 'moradia': 'casa', 'fruta': 'maracuja', 'brinquedo': 'bola'}\n"
          ]
        }
      ]
    },
    {
      "cell_type": "markdown",
      "source": [
        "##**Tupla:** Crie uma tupla com 4 números, converta a tupla em lista e adicione um novo número à lista."
      ],
      "metadata": {
        "id": "Yw2MCBBs7b1e"
      }
    },
    {
      "cell_type": "code",
      "source": [
        "#criando uma tupla com 4 números\n",
        "numeros_tuplas = (1,2,3,4)\n",
        "print(type(numeros_tuplas))"
      ],
      "metadata": {
        "colab": {
          "base_uri": "https://localhost:8080/"
        },
        "id": "RpeijV6g7iFB",
        "outputId": "b48797df-6d1e-4642-cfe7-c78b8a1b49bb"
      },
      "execution_count": null,
      "outputs": [
        {
          "output_type": "stream",
          "name": "stdout",
          "text": [
            "<class 'tuple'>\n"
          ]
        }
      ]
    },
    {
      "cell_type": "code",
      "source": [
        "#convertando a tupla em lista\n",
        "lista_1 = [numeros_tuplas]\n",
        "print(type(lista_1))\n",
        "\n"
      ],
      "metadata": {
        "colab": {
          "base_uri": "https://localhost:8080/"
        },
        "id": "F0MUgWAZ76qs",
        "outputId": "39bcd984-5018-4dd6-d1cd-c8626f83f223"
      },
      "execution_count": null,
      "outputs": [
        {
          "output_type": "stream",
          "name": "stdout",
          "text": [
            "<class 'list'>\n"
          ]
        }
      ]
    },
    {
      "cell_type": "code",
      "source": [
        "#adicionando um novo número á lista\n",
        "lista_1.append(5)\n",
        "print(lista_1)"
      ],
      "metadata": {
        "colab": {
          "base_uri": "https://localhost:8080/"
        },
        "id": "stcRFu2I81J3",
        "outputId": "3815b39a-b3ec-44d9-92e5-68674b6acfa2"
      },
      "execution_count": null,
      "outputs": [
        {
          "output_type": "stream",
          "name": "stdout",
          "text": [
            "[(1, 2, 3, 4), 5]\n"
          ]
        }
      ]
    },
    {
      "cell_type": "markdown",
      "source": [
        "## **Lista:** Crie uma lista com 7 números e remova o número no índice 3."
      ],
      "metadata": {
        "id": "oa2Ghps49lY-"
      }
    },
    {
      "cell_type": "code",
      "source": [
        "lista_2 = [1,2,3,4,5,6,7]\n",
        "print(type(lista_2))\n",
        "print(lista_2)\n",
        "lista_2.pop(3)\n",
        "print(lista_2)"
      ],
      "metadata": {
        "colab": {
          "base_uri": "https://localhost:8080/"
        },
        "id": "_WlfWs2u9w5Z",
        "outputId": "9bf7b04d-84f4-4197-c3d9-ff17d7fa81f7"
      },
      "execution_count": null,
      "outputs": [
        {
          "output_type": "stream",
          "name": "stdout",
          "text": [
            "<class 'list'>\n",
            "[1, 2, 3, 4, 5, 6, 7]\n",
            "[1, 2, 3, 5, 6, 7]\n"
          ]
        }
      ]
    },
    {
      "cell_type": "markdown",
      "source": [
        "##**Dicionário:** Crie um dicionário com 3 pares chave-valor e altere o valor de uma chave."
      ],
      "metadata": {
        "id": "nGetEoda_XHj"
      }
    },
    {
      "cell_type": "code",
      "source": [
        "loja = {\n",
        "    'Camisa polo':'M',\n",
        "    'Calça': 40,\n",
        "    'Tenis': 38}\n",
        "print(type(Loja))\n",
        "print(loja)\n",
        "loja['Tenis'] = 45\n",
        "print(loja)"
      ],
      "metadata": {
        "colab": {
          "base_uri": "https://localhost:8080/"
        },
        "id": "l9dPbuba_fdl",
        "outputId": "6ac50cd9-2d2d-4e06-a14c-3162b1b2fe01"
      },
      "execution_count": null,
      "outputs": [
        {
          "output_type": "stream",
          "name": "stdout",
          "text": [
            "<class 'dict'>\n",
            "{'Camisa polo': 'M', 'Calça': 40, 'Tenis': 38}\n",
            "{'Camisa polo': 'M', 'Calça': 40, 'Tenis': 45}\n"
          ]
        }
      ]
    },
    {
      "cell_type": "markdown",
      "source": [
        "## **Tupla:** Crie uma tupla com 5 elementos e acesse o último elemento dessa tupla."
      ],
      "metadata": {
        "id": "TFAkjd8jByVe"
      }
    },
    {
      "cell_type": "code",
      "source": [
        "cidades = ('São paulo',\"São João da Boa Vista\", 'Sorocaba','Itu','Bauru')\n",
        "print(type(cidades))\n",
        "print(cidades)\n",
        "print(cidades[-1])"
      ],
      "metadata": {
        "colab": {
          "base_uri": "https://localhost:8080/"
        },
        "id": "DRoFh_A_B5gt",
        "outputId": "6baffc6c-e2cd-4e3f-bc3a-d895a50f571c"
      },
      "execution_count": null,
      "outputs": [
        {
          "output_type": "stream",
          "name": "stdout",
          "text": [
            "<class 'tuple'>\n",
            "('São paulo', 'São João da Boa Vista', 'Sorocaba', 'Itu', 'Bauru')\n",
            "Bauru\n"
          ]
        }
      ]
    },
    {
      "cell_type": "markdown",
      "source": [
        "##**Lista:** Crie uma lista com 4 elementos e combine duas listas em uma nova lista."
      ],
      "metadata": {
        "id": "zscauqefDnOe"
      }
    },
    {
      "cell_type": "code",
      "source": [
        "lista1 = [1,2,3,4]\n",
        "lista2 = [5,6,7,8]\n",
        "lista_final = lista1 + lista2\n",
        "print(lista_final)"
      ],
      "metadata": {
        "colab": {
          "base_uri": "https://localhost:8080/"
        },
        "id": "5S7ITV2ODmfo",
        "outputId": "6c0f45ef-c47b-4850-f385-db4d8bdb8244"
      },
      "execution_count": null,
      "outputs": [
        {
          "output_type": "stream",
          "name": "stdout",
          "text": [
            "[1, 2, 3, 4, 5, 6, 7, 8]\n"
          ]
        }
      ]
    },
    {
      "cell_type": "markdown",
      "source": [
        "##**Lista e If:** Crie uma lista com 5 números e verifique se o número 10 está na lista."
      ],
      "metadata": {
        "id": "otsskAJwEbwR"
      }
    },
    {
      "cell_type": "code",
      "source": [
        "lista_5 = [2,5,9,10,5]\n",
        "\n",
        "if 10 in lista_5:\n",
        "  print('o número 10 está na lista')\n",
        "else:\n",
        "  print('Não tem número 10 na lista')\n",
        "\n"
      ],
      "metadata": {
        "colab": {
          "base_uri": "https://localhost:8080/"
        },
        "id": "6D62PIHZEkLz",
        "outputId": "b7ec05f7-5c69-4a0f-acc0-76f47e8abfc7"
      },
      "execution_count": null,
      "outputs": [
        {
          "output_type": "stream",
          "name": "stdout",
          "text": [
            "o número 10 está na lista\n"
          ]
        }
      ]
    },
    {
      "cell_type": "markdown",
      "source": [
        "##**Dicionário e If:** Crie um dicionário com 3 pares chave-valor e verifique se uma chave específica está no dicionário."
      ],
      "metadata": {
        "id": "d9k3rlS1FLTH"
      }
    },
    {
      "cell_type": "code",
      "source": [
        "loja = {\n",
        "    'Camisa polo':'M',\n",
        "    'Calça': 40,\n",
        "    'Tenis': 38}\n",
        "print(type(Loja))\n",
        "\n",
        "if 'Camisa polo' in loja:\n",
        "  print('Temos camisa polo na loja')\n",
        "else:\n",
        "  print('Não temos camisa polo na loja')"
      ],
      "metadata": {
        "colab": {
          "base_uri": "https://localhost:8080/"
        },
        "id": "RxJFnyIyFTQQ",
        "outputId": "256c32c0-7907-4c49-c723-9c565859d2a5"
      },
      "execution_count": null,
      "outputs": [
        {
          "output_type": "stream",
          "name": "stdout",
          "text": [
            "<class 'dict'>\n",
            "Temos camisa polo na loja\n"
          ]
        }
      ]
    },
    {
      "cell_type": "markdown",
      "source": [
        "##**Input e If:** Solicite ao usuário para digitar um número e verifique se ele é maior que 10."
      ],
      "metadata": {
        "id": "GRKpOAq0F7AR"
      }
    },
    {
      "cell_type": "code",
      "source": [
        "usuario = int(input('Digite um número inteiro: '))\n",
        "\n",
        "if usuario > 10:\n",
        "  print('O valor digitado é maior do que 10')\n",
        "elif usuario == 10:\n",
        "  print('O valor digitado é igual a 10')\n",
        "else:\n",
        "  print('Valor é menor do que 10')"
      ],
      "metadata": {
        "colab": {
          "base_uri": "https://localhost:8080/"
        },
        "id": "LI85hw3jGC2p",
        "outputId": "0f32d78f-af25-4a4a-90ac-a2cff49ef09a"
      },
      "execution_count": null,
      "outputs": [
        {
          "output_type": "stream",
          "name": "stdout",
          "text": [
            "Digite um número inteiro: 7\n",
            "Valor é menor do que 10\n"
          ]
        }
      ]
    },
    {
      "cell_type": "markdown",
      "source": [
        "##**Lista e If:** Crie uma lista de números e verifique se algum número da lista é negativo."
      ],
      "metadata": {
        "id": "bx_lVgdUHwwf"
      }
    },
    {
      "cell_type": "code",
      "source": [
        "lista_numeros = [-4,1,2,3,4]\n",
        "print(type(lista_numeros))\n",
        "\n",
        "numero_negativo = False\n",
        "\n",
        "for i in lista_numeros:\n",
        "  if i < 0:\n",
        "    print('Tem número negativo')\n",
        "    numero_negativo = True\n",
        "    break\n",
        "else:\n",
        "  print('Não tem número negativo')"
      ],
      "metadata": {
        "colab": {
          "base_uri": "https://localhost:8080/"
        },
        "id": "QcDoNOEeH0z4",
        "outputId": "84027d8e-41e0-4846-f890-90bb7a06b194"
      },
      "execution_count": null,
      "outputs": [
        {
          "output_type": "stream",
          "name": "stdout",
          "text": [
            "<class 'list'>\n",
            "Tem número negativo\n"
          ]
        }
      ]
    },
    {
      "cell_type": "markdown",
      "source": [
        "##**Tupla e If:** Crie uma tupla com 3 números e verifique se o primeiro número é maior que o segundo."
      ],
      "metadata": {
        "id": "E14LCGK6Lug6"
      }
    },
    {
      "cell_type": "code",
      "source": [
        "tuplas = (9,2,7)\n",
        "print(tuplas)\n",
        "print(type(tuplas))\n",
        "\n",
        "print(f'Primeiro número é: {tuplas[0]}')\n",
        "print(f'Segundo número é: {tuplas[1]}')\n",
        "\n",
        "if tuplas[0] > tuplas[1] :\n",
        "  print(\"O primeiro número é maior do que o segundo\")\n",
        "else:\n",
        "  print(\"O segundo número é maior do que o primeiro número\")"
      ],
      "metadata": {
        "colab": {
          "base_uri": "https://localhost:8080/"
        },
        "id": "WygAuN2yOdki",
        "outputId": "7572c437-4217-4a56-e274-3baf2dd23156"
      },
      "execution_count": null,
      "outputs": [
        {
          "output_type": "stream",
          "name": "stdout",
          "text": [
            "(9, 2, 7)\n",
            "<class 'tuple'>\n",
            "Primeiro número é: 9\n",
            "Segundo número é: 2\n",
            "O primeiro número é maior do que o segundo\n"
          ]
        }
      ]
    },
    {
      "cell_type": "markdown",
      "source": [
        "##**Dicionário e Input:** Crie um dicionário com 3 pares chave-valor e solicite ao usuário para acessar um valor pelo nome da chave."
      ],
      "metadata": {
        "id": "yrxln1zXRRaz"
      }
    },
    {
      "cell_type": "code",
      "source": [
        " Confeitaria = {\n",
        "    'Bolo':'Chocolate',\n",
        "    'Recheio':'Maracuja',\n",
        "    'Corbetura': 'Morango'}\n",
        "\n",
        "valor_chave = input('Escreva o item desejado (Bolo,Recheio,Corbetura): ')\n",
        "\n",
        "if valor_chave in Confeitaria:\n",
        "  print({Confeitaria[valor_chave]})\n",
        "else:\n",
        "  print('Item não encontrado')"
      ],
      "metadata": {
        "colab": {
          "base_uri": "https://localhost:8080/"
        },
        "id": "oMQ9bAdaRUXQ",
        "outputId": "994d0efd-89f8-4eeb-813a-9ea859390f1f"
      },
      "execution_count": null,
      "outputs": [
        {
          "output_type": "stream",
          "name": "stdout",
          "text": [
            "Escreva o item desejado (Bolo,Recheio,Corbetura): Recheio\n",
            "{'Maracuja'}\n"
          ]
        }
      ]
    },
    {
      "cell_type": "markdown",
      "source": [
        "##**Input e Lista:** Solicite ao usuário para digitar 5 números e adicione esses números a uma lista."
      ],
      "metadata": {
        "id": "rSrsFtU0UA5Z"
      }
    },
    {
      "cell_type": "code",
      "source": [
        "lista = [1,2,4]\n",
        "print(lista)\n",
        "print(type(lista))\n",
        "\n",
        "for i in range(5):\n",
        "  adicionando_numero = int(input(f'Digite o {i+1}º valor: '))\n",
        "  lista.append(adicionando_numero)\n",
        "\n",
        "print(lista)\n"
      ],
      "metadata": {
        "colab": {
          "base_uri": "https://localhost:8080/"
        },
        "id": "YwsZN0RuUJH9",
        "outputId": "0301b37c-c600-4a42-ccd5-fc19f06f9020"
      },
      "execution_count": null,
      "outputs": [
        {
          "output_type": "stream",
          "name": "stdout",
          "text": [
            "[1, 2, 4]\n",
            "<class 'list'>\n",
            "Digite o 1º valor: 6\n",
            "Digite o 2º valor: 4\n",
            "Digite o 3º valor: 3\n",
            "Digite o 4º valor: 5\n",
            "Digite o 5º valor: 4\n",
            "[1, 2, 4, 6, 4, 3, 5, 4]\n"
          ]
        }
      ]
    },
    {
      "cell_type": "markdown",
      "source": [
        "##**Tupla e If:** Crie uma tupla com 4 números e verifique se o primeiro número é igual ao último."
      ],
      "metadata": {
        "id": "SV37aqbuXI5Q"
      }
    },
    {
      "cell_type": "code",
      "source": [
        "tupla_quatro = (1,9,3,9)\n",
        "print(tupla_quatro)\n",
        "print(type(tupla_quatro))\n",
        "\n",
        "print(f'O primeiro número é {tupla_quatro[0]}')\n",
        "print(f'O último número é {tupla_quatro[3]}')\n",
        "if tupla_quatro[0] == tupla_quatro[3]:\n",
        "  print('O primeiro número é igual ao último')\n",
        "else:\n",
        "  print('O primeiro número não é igual ao último')"
      ],
      "metadata": {
        "colab": {
          "base_uri": "https://localhost:8080/"
        },
        "id": "LnLCFgbBXQG8",
        "outputId": "c9879821-da11-4dea-b92f-0d971e46bcdf"
      },
      "execution_count": null,
      "outputs": [
        {
          "output_type": "stream",
          "name": "stdout",
          "text": [
            "(1, 9, 3, 9)\n",
            "<class 'tuple'>\n",
            "O primeiro número é 1\n",
            "O último número é 9\n",
            "O primeiro número não é igual ao último\n"
          ]
        }
      ]
    },
    {
      "cell_type": "markdown",
      "source": [
        "##**Lista e If:** Crie uma lista com 3 nomes e verifique se o nome \"Maria\" está na lista."
      ],
      "metadata": {
        "id": "G6Xu61aoYmmk"
      }
    },
    {
      "cell_type": "code",
      "source": [
        "lista = ['Kauane','Matheus','Maria']\n",
        "if 'Maria' in lista:\n",
        "  print('Tem o nome Maria na lista')\n",
        "else:\n",
        "  print('Não existe o nome Maria na lista')\n",
        "\n"
      ],
      "metadata": {
        "colab": {
          "base_uri": "https://localhost:8080/"
        },
        "id": "nkWERK0NYtrg",
        "outputId": "a5b6509a-3ec0-4dd3-f415-dbf31128a7ae"
      },
      "execution_count": null,
      "outputs": [
        {
          "output_type": "stream",
          "name": "stdout",
          "text": [
            "Tem o nome Maria na lista\n"
          ]
        }
      ]
    },
    {
      "cell_type": "markdown",
      "source": [
        "##**Dicionário e If:** Crie um dicionário com 4 pares chave-valor e verifique se o valor associado à chave \"idade\" é maior que 18."
      ],
      "metadata": {
        "id": "VCPt98t1Zg7g"
      }
    },
    {
      "cell_type": "code",
      "source": [
        "cliente = {\n",
        "    'nome':'Kauane',\n",
        "    'idade':29,\n",
        "    'Estado': 'São Paulo',\n",
        "    'Estado civil': 'Solteira'}\n",
        "print(type(cliente))\n",
        "print(cliente)\n",
        "\n",
        "if  cliente['idade'] > 18:\n",
        "  print('É maior de 18 anos.')\n",
        "else:\n",
        "  print('Tem menos de 18 anos.')"
      ],
      "metadata": {
        "colab": {
          "base_uri": "https://localhost:8080/"
        },
        "id": "OtmLtxOzZoNA",
        "outputId": "6cdec337-782f-463a-9510-f2dae0b86f2b"
      },
      "execution_count": null,
      "outputs": [
        {
          "output_type": "stream",
          "name": "stdout",
          "text": [
            "<class 'dict'>\n",
            "{'nome': 'Kauane', 'idade': 29, 'Estado': 'São Paulo', 'Estado civil': 'Solteira'}\n",
            "É maior de 18 anos.\n"
          ]
        }
      ]
    }
  ]
}
