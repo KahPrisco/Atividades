{
 "cells": [
  {
   "cell_type": "markdown",
   "metadata": {
    "id": "uxGISqtR2yNT"
   },
   "source": [
    "# 1 - Variáveis e Tipos de Dados"
   ]
  },
  {
   "cell_type": "code",
   "execution_count": 4,
   "metadata": {
    "colab": {
     "base_uri": "https://localhost:8080/"
    },
    "id": "tLS0FEGj2rS7",
    "outputId": "1e125484-4311-4ac4-b4d0-525ec13f95d3"
   },
   "outputs": [
    {
     "name": "stdout",
     "output_type": "stream",
     "text": [
      "Digite o nome da pessoa: Maria\n",
      "Digite a idade da pessoa: 85\n",
      "Digite o peso da pessoa: 70\n",
      "Digite a altura da pessoa: 1.75\n",
      "Nome: Maria , Variável : <class 'str'>\n",
      "Idade: 85 anos , Variável : <class 'int'>\n",
      "Peso: 70.0 Kg , Variável : <class 'float'>\n",
      "Altura: 1.75 m , Variável : <class 'float'>\n"
     ]
    }
   ],
   "source": [
    "'''\n",
    "1.1. Crie variáveis para armazenar o nome, idade, peso e altura de uma pessoa.\n",
    "Imprima os valores e os tipos de dados dessas variáveis.\n",
    "'''\n",
    "nome = input('Digite o nome da pessoa: ')\n",
    "idade = int(input('Digite a idade da pessoa: '))\n",
    "peso = float(input('Digite o peso da pessoa: '))\n",
    "altura = float(input('Digite a altura da pessoa: '))\n",
    "\n",
    "print(f'Nome: {nome} , Variável : {type(nome)}')\n",
    "print(f'Idade: {idade} anos , Variável : {type(idade)}')\n",
    "print(f'Peso: {peso} Kg , Variável : {type(peso)}')\n",
    "print(f'Altura: {altura} m , Variável : {type(altura)}')\n"
   ]
  },
  {
   "cell_type": "code",
   "execution_count": 5,
   "metadata": {
    "colab": {
     "base_uri": "https://localhost:8080/"
    },
    "id": "VFVgrodF27TT",
    "outputId": "dd81e4b9-bedb-4691-cb35-84dc0268c4c6"
   },
   "outputs": [
    {
     "name": "stdout",
     "output_type": "stream",
     "text": [
      "Digite novo peso da(o) Maria: 75\n",
      "Nome: Maria , Variável : <class 'str'>\n",
      "Idade: 85 anos , Variável : <class 'int'>\n",
      "Peso: 75.0 Kg , Variável : <class 'float'>\n",
      "Altura: 1.75 m , Variável : <class 'float'>\n"
     ]
    }
   ],
   "source": [
    "'''\n",
    "1.2. Atualize a variável de peso para um valor diferente e imprima o novo valor.\n",
    "'''\n",
    "peso = float(input(f'Digite novo peso da(o) {nome}: '))\n",
    "\n",
    "print(f'Nome: {nome} , Variável : {type(nome)}')\n",
    "print(f'Idade: {idade} anos , Variável : {type(idade)}')\n",
    "print(f'Peso: {peso} Kg , Variável : {type(peso)}')\n",
    "print(f'Altura: {altura} m , Variável : {type(altura)}')\n"
   ]
  },
  {
   "cell_type": "markdown",
   "metadata": {
    "id": "RRRbkSkr3Ajw"
   },
   "source": [
    "# 2 - Operadores Matemáticos"
   ]
  },
  {
   "cell_type": "code",
   "execution_count": null,
   "metadata": {
    "id": "hHAztIDU3AJP"
   },
   "outputs": [],
   "source": [
    "'''\n",
    "2.1. Crie uma variável a com valor 10 e uma variável b com valor 3. Realize as\n",
    "seguintes operações e imprima os resultados:\n",
    "Soma\n",
    "Subtração\n",
    "Multiplicação\n",
    "Divisão\n",
    "Parte inteira da divisão\n",
    "Resto da divisão\n",
    "Exponenciação\n",
    "'''\n"
   ]
  },
  {
   "cell_type": "code",
   "execution_count": 8,
   "metadata": {
    "colab": {
     "base_uri": "https://localhost:8080/"
    },
    "id": "NRMIXYF_o1Mv",
    "outputId": "7bae5e50-f8f9-459f-e6d5-d3eb06d8dac3"
   },
   "outputs": [
    {
     "name": "stdout",
     "output_type": "stream",
     "text": [
      "Digite a operação desejada: Multiplicação\n",
      "a * b = 30\n"
     ]
    }
   ],
   "source": [
    "a = 10\n",
    "b = 3\n",
    "\n",
    "Operacao = input('Digite a operação desejada: ')\n",
    "\n",
    "soma = a + b\n",
    "subtracao = a - b\n",
    "multiplicacao = a * b\n",
    "divisao = a / b\n",
    "parte_inteira_divisao = a // b\n",
    "resto = a % b\n",
    "exponenciacao = a** b\n",
    "\n",
    "if Operacao == 'Soma':\n",
    "    print(f'a + b = {soma}')\n",
    "elif Operacao == 'Subtração':\n",
    "    print(f'a - b = {subtracao}')\n",
    "elif Operacao == 'Multiplicação':\n",
    "    print(f'a * b = {multiplicacao}')\n",
    "elif Operacao == 'Divisão':\n",
    "    print(f'a / b = {divisao}')\n",
    "elif Operacao == 'Parte inteira da divisão':\n",
    "    print(f'a // b = {parte_inteira_divisao}')\n",
    "elif Operacao == 'Resto':\n",
    "    print(f'a % b = {resto}')\n",
    "elif Operacao == 'Exponenciação':\n",
    "    print(f'a ** b = {exponenciacao}')\n",
    "else:\n",
    "    print('Operação inválida!')\n"
   ]
  },
  {
   "cell_type": "markdown",
   "metadata": {
    "id": "jWJt5Ep23OFd"
   },
   "source": [
    "# 3 - Entrada de Dados pelo Usuário\n"
   ]
  },
  {
   "cell_type": "code",
   "execution_count": null,
   "metadata": {
    "id": "IiD6jUJh3eiD"
   },
   "outputs": [],
   "source": [
    "'''\n",
    "3.1. Peça ao usuário para digitar seu nome e armazene em uma variável. Imprima\n",
    "uma mensagem de boas-vindas usando o nome fornecido.\n",
    "'''\n"
   ]
  },
  {
   "cell_type": "code",
   "execution_count": null,
   "metadata": {
    "colab": {
     "base_uri": "https://localhost:8080/"
    },
    "id": "oG1PVWVusZxy",
    "outputId": "dc8cf847-b2fe-4b42-ec8f-f22c80e9aa25"
   },
   "outputs": [
    {
     "name": "stdout",
     "output_type": "stream",
     "text": [
      "Digite o seu nome: Kauane\n",
      "Seja bem-vindo(a) Kauane\n"
     ]
    }
   ],
   "source": [
    "nome_usuario = input('Digite o seu nome: ')\n",
    "print(f'Seja bem-vindo(a) {nome_usuario}')"
   ]
  },
  {
   "cell_type": "code",
   "execution_count": null,
   "metadata": {
    "id": "Y4kz72aR3k8d"
   },
   "outputs": [],
   "source": [
    "'''\n",
    "3.2. Peça ao usuário para digitar sua idade, peso e altura. Calcule o IMC e\n",
    "imprima o resultado arredondado para três casas decimais.\n",
    "'''\n"
   ]
  },
  {
   "cell_type": "code",
   "execution_count": 11,
   "metadata": {
    "colab": {
     "base_uri": "https://localhost:8080/"
    },
    "id": "PyY5ou5PtFPg",
    "outputId": "0f200789-99f2-4af9-e9b7-b41caf1c72b4"
   },
   "outputs": [
    {
     "name": "stdout",
     "output_type": "stream",
     "text": [
      "Digite a idade da pessoa: 25\n",
      "Digite o peso da pessoa(em kg): 80\n",
      "Digite a altura da pessoa(em m): 1.75\n",
      "Idade: 25 anos\n",
      "Peso: 80.0 Kg\n",
      "Altura: 1.75 m\n",
      "O imc é: 26.122\n"
     ]
    }
   ],
   "source": [
    "idade_3 = int(input('Digite a idade da pessoa: '))\n",
    "peso_3 = float(input('Digite o peso da pessoa(em kg): '))\n",
    "altura_3 = float(input('Digite a altura da pessoa(em m): '))\n",
    "\n",
    "imc = (round(peso_3 / altura_3**2, 3))\n",
    "\n",
    "print(f'Idade: {idade_3} anos')\n",
    "print(f'Peso: {peso_3} Kg')\n",
    "print(f'Altura: {altura_3} m')\n",
    "print(f'O imc é: {imc}')\n"
   ]
  },
  {
   "cell_type": "code",
   "execution_count": null,
   "metadata": {
    "id": "PrhJpkQVXU-V"
   },
   "outputs": [],
   "source": [
    "# Método Alternativo\n",
    "'''\n",
    "3.2. Peça ao usuário para digitar sua idade, peso e altura. Calcule o IMC e\n",
    "imprima o resultado arredondado para três casas decimais.\n",
    "'''\n"
   ]
  },
  {
   "cell_type": "code",
   "execution_count": 26,
   "metadata": {
    "colab": {
     "base_uri": "https://localhost:8080/"
    },
    "id": "SUS-KbfSaKsr",
    "outputId": "164b1e64-f24d-458d-d818-915cfe0a0615"
   },
   "outputs": [
    {
     "name": "stdout",
     "output_type": "stream",
     "text": [
      "Digite a idade da pessoa: 18\n",
      "Digite o peso da pessoa(em kg): 75\n",
      "Digite a altura da pessoa(em m): 1.50\n",
      "Idade: 18 anos\n",
      "Peso: 75.0 Kg\n",
      "Altura: 1.5 m\n",
      "O imc é: 33.333\n"
     ]
    }
   ],
   "source": [
    "def calculo_imc (peso_4,altura_4):\n",
    "  return round(peso_4/altura_4**2, 3)\n",
    "\n",
    "def variaveis():\n",
    "  idade_4 = int(input('Digite a idade da pessoa: '))\n",
    "  peso_4 = float(input('Digite o peso da pessoa(em kg): '))\n",
    "  altura_4 = float(input('Digite a altura da pessoa(em m): '))\n",
    "\n",
    "  imc_novo = calculo_imc(peso_4,altura_4)\n",
    "\n",
    "  print(f'Idade: {idade_4} anos')\n",
    "  print(f'Peso: {peso_4} Kg')\n",
    "  print(f'Altura: {altura_4} m')\n",
    "  print(f'O imc é: {imc_novo}')\n",
    "\n",
    "variaveis()"
   ]
  },
  {
   "cell_type": "markdown",
   "metadata": {
    "id": "zqRV3Plv3pjL"
   },
   "source": [
    "# 4 - Função de Impressão"
   ]
  },
  {
   "cell_type": "code",
   "execution_count": null,
   "metadata": {
    "id": "N5AbRV3i3vYV"
   },
   "outputs": [],
   "source": [
    "'''\n",
    "4.1. Peça ao usuário para digitar um número e imprima o número digitado.\n",
    "'''\n"
   ]
  },
  {
   "cell_type": "code",
   "execution_count": null,
   "metadata": {
    "colab": {
     "base_uri": "https://localhost:8080/"
    },
    "id": "jDSgFwWuu9C1",
    "outputId": "176c8241-3dd1-40d8-8d0f-142a1bf6228e"
   },
   "outputs": [
    {
     "name": "stdout",
     "output_type": "stream",
     "text": [
      "Digite número inteiro: 7\n",
      "O número digitado é 7\n"
     ]
    }
   ],
   "source": [
    "numero = int(input('Digite número inteiro: '))\n",
    "print(f'O número digitado é {numero}')"
   ]
  },
  {
   "cell_type": "code",
   "execution_count": null,
   "metadata": {
    "id": "qM2ocOFl3vpB"
   },
   "outputs": [],
   "source": [
    "'''\n",
    "4.2. Peça ao usuário para digitar dois números e imprima a soma deles.\n",
    "'''\n"
   ]
  },
  {
   "cell_type": "code",
   "execution_count": null,
   "metadata": {
    "colab": {
     "base_uri": "https://localhost:8080/"
    },
    "id": "ecPVe9sbvhTO",
    "outputId": "09a33291-97ee-4d83-f21d-f6d06fcb634b"
   },
   "outputs": [
    {
     "name": "stdout",
     "output_type": "stream",
     "text": [
      "Digite o primeiro número inteiro: 2\n",
      "Digite o segundo número inteiro: 8\n",
      "A soma dos dois numeros inteiros é: 10\n"
     ]
    }
   ],
   "source": [
    "a = int(input('Digite o primeiro número inteiro: '))\n",
    "b = int(input('Digite o segundo número inteiro: '))\n",
    "\n",
    "print(f'A soma dos dois numeros inteiros é: {a+b}')"
   ]
  },
  {
   "cell_type": "code",
   "execution_count": null,
   "metadata": {
    "id": "YtaigxxGasPs"
   },
   "outputs": [],
   "source": [
    "# Método alternativo\n",
    "'''\n",
    "4.2. Peça ao usuário para digitar dois números e imprima a soma deles.\n",
    "'''\n"
   ]
  },
  {
   "cell_type": "code",
   "execution_count": null,
   "metadata": {
    "colab": {
     "base_uri": "https://localhost:8080/"
    },
    "id": "RYbMpC46v_84",
    "outputId": "a817066d-9895-46ca-f8f7-58eb2ad086e8"
   },
   "outputs": [
    {
     "name": "stdout",
     "output_type": "stream",
     "text": [
      "Digite o primeiro número inteiro: 6\n",
      "Digite o segundo número inteiro: 9\n",
      "A soma dos dois numeros inteiros é: 15\n"
     ]
    }
   ],
   "source": [
    "a = int(input('Digite o primeiro número inteiro: '))\n",
    "b = int(input('Digite o segundo número inteiro: '))\n",
    "\n",
    "soma = a+b\n",
    "\n",
    "print(f'A soma dos dois numeros inteiros é: {soma}')"
   ]
  },
  {
   "cell_type": "markdown",
   "metadata": {
    "id": "RWwlLaOu35jq"
   },
   "source": [
    "# 5 - Métodos de Strings"
   ]
  },
  {
   "cell_type": "code",
   "execution_count": null,
   "metadata": {
    "id": "PnAPaeXY3-dA"
   },
   "outputs": [],
   "source": [
    "'''\n",
    "5.1. Peça ao usuário para digitar um e-mail e verifique se o e-mail contém o\n",
    "caractere '@'. Imprima uma mensagem indicando se é um e-mail válido ou não.\n",
    "'''\n"
   ]
  },
  {
   "cell_type": "code",
   "execution_count": 42,
   "metadata": {
    "colab": {
     "base_uri": "https://localhost:8080/"
    },
    "id": "JFEU7SqJyy5s",
    "outputId": "c247c7d2-65d8-4530-e216-032c8b5ea08e"
   },
   "outputs": [
    {
     "name": "stdout",
     "output_type": "stream",
     "text": [
      "Digite o seu email: pedro@gmail.com\n",
      "Email válido\n"
     ]
    }
   ],
   "source": [
    "email = input('Digite o seu email: ')\n",
    "\n",
    "if '@' in email:\n",
    "  print('Email válido')\n",
    "else:\n",
    "  print('Email invalido')"
   ]
  },
  {
   "cell_type": "code",
   "execution_count": null,
   "metadata": {
    "id": "nkwe0I9c3-w-"
   },
   "outputs": [],
   "source": [
    "'''\n",
    "5.2. Peça ao usuário para digitar uma frase e:\n",
    "Converta a frase para maiúsculas.\n",
    "Converta a frase para minúsculas.\n",
    "Converta a primeira letra de cada palavra para maiúscula.\n",
    "Verifique se a frase começa com uma determinada palavra (ex.: 'Olá').\n",
    "'''\n"
   ]
  },
  {
   "cell_type": "code",
   "execution_count": null,
   "metadata": {
    "colab": {
     "base_uri": "https://localhost:8080/"
    },
    "id": "MmJ1-ZQE2578",
    "outputId": "14612d61-e7d9-4bbc-f4dd-6574da02b256"
   },
   "outputs": [
    {
     "name": "stdout",
     "output_type": "stream",
     "text": [
      "Digite uma frase: Hoje é sexta\n",
      "hoje é sexta\n",
      "HOJE É SEXTA\n",
      "Hoje é sexta\n",
      "Hoje É Sexta\n",
      "A frase começa com a palavra \"Hoje\".\n"
     ]
    }
   ],
   "source": [
    "frase = input('Digite uma frase: ')\n",
    "\n",
    "print(frase.lower())\n",
    "print(frase.upper())\n",
    "print(frase.capitalize())\n",
    "print(frase.title())\n",
    "\n",
    "if frase.lower().startswith('hoje'):\n",
    "    print('A frase começa com a palavra \"Hoje\".')\n",
    "else:\n",
    "    print('A frase NÃO começa com a palavra \"Hoje\".')\n"
   ]
  },
  {
   "cell_type": "markdown",
   "metadata": {
    "id": "HZQlB-8K4snX"
   },
   "source": [
    "# 6 - Listas"
   ]
  },
  {
   "cell_type": "code",
   "execution_count": null,
   "metadata": {
    "id": "3_3JLvXZ4sBG"
   },
   "outputs": [],
   "source": [
    "'''\n",
    "6.1. Crie uma lista com os nomes de cinco amigos. Imprima o nome do terceiro\n",
    "amigo na lista.\n",
    "'''\n"
   ]
  },
  {
   "cell_type": "code",
   "execution_count": null,
   "metadata": {
    "colab": {
     "base_uri": "https://localhost:8080/"
    },
    "id": "wH6SzWtS4Ll4",
    "outputId": "0d052f87-828f-48ca-fc90-3428fb54a60b"
   },
   "outputs": [
    {
     "name": "stdout",
     "output_type": "stream",
     "text": [
      "Digite o 1º nome do seu amigo(a): Jose\n",
      "Digite o 2º nome do seu amigo(a): Carlor\n",
      "Digite o 3º nome do seu amigo(a): Maria\n",
      "Digite o 4º nome do seu amigo(a): Ricardo\n",
      "Digite o 5º nome do seu amigo(a): João\n",
      "['Jose', 'Carlor', 'Maria', 'Ricardo', 'João']\n",
      "O terceiro nome da lista é:  Maria\n"
     ]
    }
   ],
   "source": [
    "lista_amigo = []\n",
    "\n",
    "for i in range(5):\n",
    "  adicinando_nome = input(f'Digite o {i+1}º nome do seu amigo(a): ')\n",
    "  lista_amigo.append(adicinando_nome)\n",
    "\n",
    "print(lista_amigo)\n",
    "\n",
    "print(f'O terceiro nome da lista é:  {lista_amigo[2]}')\n"
   ]
  },
  {
   "cell_type": "code",
   "execution_count": null,
   "metadata": {
    "id": "ppcjLqMb4yDu"
   },
   "outputs": [],
   "source": [
    "'''\n",
    "6.2. Adicione um novo nome à lista de amigos e remova o primeiro nome.\n",
    "Imprima a lista atualizada.\n",
    "'''\n"
   ]
  },
  {
   "cell_type": "code",
   "execution_count": null,
   "metadata": {
    "colab": {
     "base_uri": "https://localhost:8080/"
    },
    "id": "gHf6MLvQ5mfW",
    "outputId": "5bdaf370-1567-4a8b-8905-1d5d79f85339"
   },
   "outputs": [
    {
     "name": "stdout",
     "output_type": "stream",
     "text": [
      "['Jose', 'Carlor', 'Maria', 'Ricardo', 'João']\n",
      "Digite nome do seu amigo: Fatima\n",
      "['Jose', 'Carlor', 'Maria', 'Ricardo', 'João', 'Fatima']\n",
      "['Carlor', 'Maria', 'Ricardo', 'João', 'Fatima']\n"
     ]
    }
   ],
   "source": [
    "print(lista_amigo)\n",
    "novo_nome = input('Digite nome do seu amigo: ')\n",
    "lista_amigo.append(novo_nome)\n",
    "print(lista_amigo)\n",
    "lista_amigo.pop(0)\n",
    "print(lista_amigo)\n",
    "\n"
   ]
  },
  {
   "cell_type": "code",
   "execution_count": null,
   "metadata": {
    "id": "Hoz7RcUW4zc4"
   },
   "outputs": [],
   "source": [
    "'''\n",
    "6.3. Crie uma lista com as idades dos seus amigos e:\n",
    "Imprima a idade do amigo mais velho.\n",
    "Imprima a idade do amigo mais novo.\n",
    "Calcule e imprima a soma das idades.\n",
    "'''\n"
   ]
  },
  {
   "cell_type": "code",
   "execution_count": 28,
   "metadata": {
    "colab": {
     "base_uri": "https://localhost:8080/"
    },
    "id": "dwJRoPmD8Fww",
    "outputId": "f91594b1-b291-4103-c0c9-06394bcb71b5"
   },
   "outputs": [
    {
     "name": "stdout",
     "output_type": "stream",
     "text": [
      "Digite a idade do seu 1º amigo: 19\n",
      "Digite a idade do seu 2º amigo: 45\n",
      "Digite a idade do seu 3º amigo: 56\n",
      "Digite a idade do seu 4º amigo: 62\n",
      "Digite a idade do seu 5º amigo: 85\n",
      "Digite a idade do seu 6º amigo: 45\n",
      "Digite a idade do seu 7º amigo: 74\n",
      "Digite a idade do seu 8º amigo: 63\n",
      "Digite a idade do seu 9º amigo: 59\n",
      "Digite a idade do seu 10º amigo: 45\n",
      "[19, 45, 56, 62, 85, 45, 74, 63, 59, 45]\n",
      "A idade do seu amigo mais novo é 19, e do amigo mais velho é 85\n",
      "A soma das idades dos seus amigos é: 553\n"
     ]
    }
   ],
   "source": [
    "lista_idade = []\n",
    "for i in range(10):\n",
    "  adicionando_idade = int(input(f'Digite a idade do seu {i+1}º amigo: '))\n",
    "  lista_idade.append(adicionando_idade)\n",
    "\n",
    "print(lista_idade)\n",
    "idade_mais_velho = max(lista_idade)\n",
    "idade_mais_novo = min(lista_idade)\n",
    "\n",
    "print(f'A idade do seu amigo mais novo é {idade_mais_novo}, e do amigo mais velho é {idade_mais_velho}')\n",
    "\n",
    "soma_idades_amigos = sum(lista_idade)\n",
    "print(f'A soma das idades dos seus amigos é: {soma_idades_amigos}')\n",
    "\n",
    "\n",
    "\n",
    "\n"
   ]
  },
  {
   "cell_type": "markdown",
   "metadata": {
    "id": "9WTzsCNH4-tT"
   },
   "source": [
    "# 7 - Tuplas"
   ]
  },
  {
   "cell_type": "code",
   "execution_count": null,
   "metadata": {
    "id": "XpWW7G-p5BOJ"
   },
   "outputs": [],
   "source": [
    "'''\n",
    "7.1 Crie uma tupla com as informações de um cliente (nome, idade, peso, altura).\n",
    "Imprima todas as informações.\n",
    "'''"
   ]
  },
  {
   "cell_type": "code",
   "execution_count": 43,
   "metadata": {
    "colab": {
     "base_uri": "https://localhost:8080/"
    },
    "id": "aR7IA4g6FHFb",
    "outputId": "8e984ac0-46c7-40d4-cabc-940e48386bc1"
   },
   "outputs": [
    {
     "name": "stdout",
     "output_type": "stream",
     "text": [
      "Nome: João\n",
      "Idade: 45 anos\n",
      "Peso: 58 Kg\n",
      "Altura: 1.6 m\n"
     ]
    }
   ],
   "source": [
    "informacao_tupla = ('João',45,58,1.60)\n",
    "\n",
    "print(f'Nome: {informacao_tupla[0]}')\n",
    "print(f'Idade: {informacao_tupla[1]} anos')\n",
    "print(f'Peso: {informacao_tupla[2]} Kg')\n",
    "print(f'Altura: {informacao_tupla[3]} m')"
   ]
  },
  {
   "cell_type": "code",
   "execution_count": 45,
   "metadata": {
    "colab": {
     "base_uri": "https://localhost:8080/"
    },
    "id": "tIzWFwzc5GQ8",
    "outputId": "bcc3d29b-7bb2-4adc-a176-651fa0de31a7"
   },
   "outputs": [
    {
     "name": "stdout",
     "output_type": "stream",
     "text": [
      "Digite o seu email: joao@gmail.com\n",
      "('João', 45, 58, 1.6, 'joao@gmail.com')\n",
      "Nome: João\n",
      "Idade: 45 anos\n",
      "Peso: 58 Kg\n",
      "Altura: 1.6 m\n",
      "Email: joao@gmail.com\n"
     ]
    }
   ],
   "source": [
    "'''\n",
    "7.2. Crie uma nova tupla concatenando a tupla do exercício anterior com o e-mail\n",
    "do cliente. Imprima a nova tupla.\n",
    "'''\n",
    "\n",
    "informacao_tupla = ('João',45,58,1.60)\n",
    "\n",
    "email = str(input('Digite o seu email: '))\n",
    "\n",
    "informacao_tupla = informacao_tupla + (email,)\n",
    "print(informacao_tupla)\n",
    "\n",
    "print(f'Nome: {informacao_tupla[0]}')\n",
    "print(f'Idade: {informacao_tupla[1]} anos')\n",
    "print(f'Peso: {informacao_tupla[2]} Kg')\n",
    "print(f'Altura: {informacao_tupla[3]} m')\n",
    "print(f'Email: {informacao_tupla[4]}')\n"
   ]
  },
  {
   "cell_type": "markdown",
   "metadata": {
    "id": "-zg06dPu5ZJC"
   },
   "source": [
    "# 8 - Dicionários"
   ]
  },
  {
   "cell_type": "code",
   "execution_count": null,
   "metadata": {
    "id": "E_wd3pdX5clA"
   },
   "outputs": [],
   "source": [
    "'''\n",
    "8.1. Crie um dicionário com informações de um cliente\n",
    "(nome, idade, peso, altura). Imprima o valor associado à chave 'nome'.\n",
    "'''\n"
   ]
  },
  {
   "cell_type": "code",
   "execution_count": 34,
   "metadata": {
    "colab": {
     "base_uri": "https://localhost:8080/"
    },
    "id": "co-rc7s-H01I",
    "outputId": "bf65baec-364a-4d9b-f91f-e924d54f3524"
   },
   "outputs": [
    {
     "name": "stdout",
     "output_type": "stream",
     "text": [
      "{'nome': 'Maria', 'idade': 29, 'peso': 68, 'altura': 1.6}\n",
      "Maria\n"
     ]
    }
   ],
   "source": [
    "cliente = {\n",
    "    'nome':'Maria',\n",
    "    'idade':29,\n",
    "    'peso': 68,\n",
    "    'altura': 1.60\n",
    "    }\n",
    "print(cliente)\n",
    "print(cliente['nome'])"
   ]
  },
  {
   "cell_type": "code",
   "execution_count": 37,
   "metadata": {
    "colab": {
     "base_uri": "https://localhost:8080/"
    },
    "id": "kM-tUW7o5eK7",
    "outputId": "cb644999-a7e3-4215-8f60-f118aa139a64"
   },
   "outputs": [
    {
     "name": "stdout",
     "output_type": "stream",
     "text": [
      "Digite o seu email: MARIA@GMAIL.COM\n",
      "{'nome': 'Maria', 'idade': 29, 'peso': 68, 'altura': 1.6, 'endereço': 'Rua dos sonhos', 'email': 'maria@gmail.com'}\n"
     ]
    }
   ],
   "source": [
    "'''\n",
    "8.2. Adicione uma nova chave 'email' ao dicionário do exercício anterior e\n",
    "imprima o dicionário atualizado.\n",
    "'''\n",
    "cliente = {\n",
    "    'nome':'Maria',\n",
    "    'idade':29,\n",
    "    'peso': 68,\n",
    "    'altura': 1.60,\n",
    "    'endereço': 'Rua dos sonhos'\n",
    "    }\n",
    "\n",
    "email = input('Digite o seu email: ').lower()\n",
    "cliente['email'] = email\n",
    "\n",
    "print(cliente)"
   ]
  },
  {
   "cell_type": "code",
   "execution_count": 38,
   "metadata": {
    "colab": {
     "base_uri": "https://localhost:8080/"
    },
    "id": "xFhFuFOV5ffs",
    "outputId": "1523311e-cddd-424e-c545-eead033e2cd0"
   },
   "outputs": [
    {
     "name": "stdout",
     "output_type": "stream",
     "text": [
      "{'nome': 'Maria', 'idade': 29, 'altura': 1.6, 'endereço': 'Rua dos sonhos', 'email': 'maria@gmail.com'}\n",
      "A chave endereço esta no dicionario \n"
     ]
    }
   ],
   "source": [
    "'''\n",
    "8.3. Remova a chave 'peso' do dicionário e verifique se a chave 'endereço' está\n",
    "no dicionário. Imprima os resultados.\n",
    "'''\n",
    "cliente.pop('peso')\n",
    "print(cliente)\n",
    "\n",
    "if 'endereço' in cliente:\n",
    "  print('A chave endereço esta no dicionario ')\n",
    "else:\n",
    "  print('A chave endereço não esta no dicionario')\n"
   ]
  },
  {
   "cell_type": "markdown",
   "metadata": {
    "id": "zDOsohbe5sjQ"
   },
   "source": [
    "# 9 - Controle de Fluxo"
   ]
  },
  {
   "cell_type": "code",
   "execution_count": null,
   "metadata": {
    "id": "efFgv5Xx5wFC"
   },
   "outputs": [],
   "source": [
    "# Condicionais\n",
    "'''\n",
    "9.1. Peça ao usuário para digitar sua idade e verifique se ele é menor de idade,\n",
    " adulto ou idoso. Imprima uma mensagem correspondente.\n",
    "'''\n"
   ]
  },
  {
   "cell_type": "code",
   "execution_count": null,
   "metadata": {
    "colab": {
     "base_uri": "https://localhost:8080/"
    },
    "id": "2hMjg8VhK5Vx",
    "outputId": "960fe536-8283-460b-f8fc-c005e99aed75"
   },
   "outputs": [
    {
     "name": "stdout",
     "output_type": "stream",
     "text": [
      "Digite a sua idade: 65\n",
      "O(A) usuario(a) é maior de idade, ele(a) é um(a) idoso(a).\n"
     ]
    }
   ],
   "source": [
    "sua_idade = int(input('Digite a sua idade: '))\n",
    "\n",
    "if 0 <= sua_idade <= 12:\n",
    "  print(f'O(A) usuario(a) é menor de idade, ele(a) é uma criança.')\n",
    "elif 13 <= sua_idade <= 17:\n",
    "  print(f'O(A) usuario(a) é menor de idade, ele(a) é um(a) adoslescente.')\n",
    "elif 18 <= sua_idade <= 64:\n",
    "  print(f'O(A) usuario(a) é maior de idade, ele(a) é um(a) adulto(a).')\n",
    "else :\n",
    "  print(f'O(A) usuario(a) é maior de idade, ele(a) é um(a) idoso(a).')"
   ]
  },
  {
   "cell_type": "code",
   "execution_count": null,
   "metadata": {
    "colab": {
     "base_uri": "https://localhost:8080/"
    },
    "id": "pse5b4NO52OP",
    "outputId": "0e92f724-5612-4d8e-8d3b-a610d234d3cc"
   },
   "outputs": [
    {
     "name": "stdout",
     "output_type": "stream",
     "text": [
      "Digite valor da sua nota: 70\n",
      "Aprovado(a)\n"
     ]
    }
   ],
   "source": [
    "# Condicionais\n",
    "'''\n",
    "9.2. Peça ao usuário para digitar uma nota (0 a 100) e imprima se ele foi\n",
    "aprovado (nota >= 60) ou reprovado.\n",
    "'''\n",
    "nota = int(input('Digite valor da sua nota: '))\n",
    "\n",
    "if nota >= 60:\n",
    "  print('Aprovado(a)')\n",
    "else:\n",
    "  print('Reprovada')"
   ]
  },
  {
   "cell_type": "code",
   "execution_count": null,
   "metadata": {
    "colab": {
     "base_uri": "https://localhost:8080/"
    },
    "id": "inMnGHFy525K",
    "outputId": "01d373b9-e17f-4e1f-e358-988206c35502"
   },
   "outputs": [
    {
     "name": "stdout",
     "output_type": "stream",
     "text": [
      "São Paulo\n",
      "Osasco\n",
      "São João da Boa Vista\n",
      "Campinas\n",
      "Jundiai\n"
     ]
    }
   ],
   "source": [
    "# Loop For\n",
    "'''\n",
    "9.3. Crie uma lista com os nomes de cinco cidades. Use um loop for para imprimir\n",
    "cada nome de cidade.\n",
    "'''\n",
    "lista_cidade = ['São Paulo','Osasco','São João da Boa Vista','Campinas','Jundiai']\n",
    "for i in lista_cidade:\n",
    "  print(i)\n"
   ]
  },
  {
   "cell_type": "code",
   "execution_count": 31,
   "metadata": {
    "colab": {
     "base_uri": "https://localhost:8080/"
    },
    "id": "GitTfGfM539Y",
    "outputId": "1ca9d69e-32cd-45dc-d8d0-7e21173eea39"
   },
   "outputs": [
    {
     "name": "stdout",
     "output_type": "stream",
     "text": [
      "1^2 = 1\n",
      "2^2 = 4\n",
      "3^2 = 9\n",
      "4^2 = 16\n",
      "5^2 = 25\n",
      "6^2 = 36\n",
      "7^2 = 49\n",
      "8^2 = 64\n",
      "9^2 = 81\n",
      "10^2 = 100\n"
     ]
    }
   ],
   "source": [
    "# Loop For\n",
    "'''\n",
    "9.4. Crie uma lista com os números de 1 a 10. Use um loop for para imprimir o\n",
    "quadrado de cada número.\n",
    "'''\n",
    "lista_numeros = [1,2,3,4,5,6,7,8,9,10]\n",
    "for i in lista_numeros:\n",
    "  print(f'{i}^2 = {i**2}')\n"
   ]
  },
  {
   "cell_type": "markdown",
   "metadata": {
    "id": "_vJUEjo_6mWX"
   },
   "source": [
    "# 10 - Estudo de caso 01"
   ]
  },
  {
   "cell_type": "code",
   "execution_count": null,
   "metadata": {
    "id": "llIsNhsG6l_z"
   },
   "outputs": [],
   "source": [
    "'''\n",
    "Contexto:\n",
    "Uma empresa precisa registrar informações sobre seus clientes e calcular o IMC\n",
    "(Índice de Massa Corporal) de cada um deles. As informações devem ser\n",
    "armazenadas em um dicionário e exibidas ao final.\n",
    "'''\n",
    "\n",
    "\n",
    "'''\n",
    "Requisitos:\n",
    "Peça ao usuário para inserir os seguintes dados de um cliente:\n",
    "Nome\n",
    "Idade\n",
    "Peso (em kg)\n",
    "Altura (em metros)\n",
    "E-mail\n",
    "Armazene essas informações em um dicionário.\n",
    "Calcule o IMC do cliente (IMC = Peso / (Altura * Altura)) e adicione esse valor ao dicionário.\n",
    "Exiba todas as informações do cliente, incluindo o IMC arredondado para duas casas decimais.\n",
    "\n",
    "'''\n"
   ]
  },
  {
   "cell_type": "code",
   "execution_count": 40,
   "metadata": {
    "colab": {
     "base_uri": "https://localhost:8080/"
    },
    "id": "IvACnkXpRL-9",
    "outputId": "1b0e71e6-e62b-4a28-a614-e8ef59bf70b0"
   },
   "outputs": [
    {
     "name": "stdout",
     "output_type": "stream",
     "text": [
      "Digite o seu nome: Matheus\n",
      "Digite a sua idade: 28\n",
      "Digite o seu peso(em kg): 75\n",
      "Digite a sua altura(em metros): 1.75\n",
      "Digite o seu email: MATHEUS@GMAIL.COM\n",
      "{'nome': 'Matheus', 'idade': 28, 'peso': 75.0, 'altura': 1.75, 'email': 'matheus@gmail.com'}\n",
      "{'nome': 'Matheus', 'idade': 28, 'peso': 75.0, 'altura': 1.75, 'email': 'matheus@gmail.com', 'imc': 24.49}\n"
     ]
    }
   ],
   "source": [
    "nome = input('Digite o seu nome: ')\n",
    "idade = int(input('Digite a sua idade: '))\n",
    "peso = float(input('Digite o seu peso(em kg): '))\n",
    "altura = float(input('Digite a sua altura(em metros): '))\n",
    "email = input('Digite o seu email: ').lower()\n",
    "\n",
    "usuario = {\n",
    "    'nome':nome,\n",
    "    'idade': idade,\n",
    "    'peso': peso,\n",
    "    'altura': altura,\n",
    "    'email': email\n",
    "    }\n",
    "\n",
    "print(usuario)\n",
    "\n",
    "imc = round(peso/altura**2,2)\n",
    "usuario['imc'] = imc\n",
    "\n",
    "print(usuario)"
   ]
  },
  {
   "cell_type": "markdown",
   "metadata": {
    "id": "_Yi8lRKQ68B3"
   },
   "source": [
    "# 11 - Estudo de Caso 02"
   ]
  },
  {
   "cell_type": "code",
   "execution_count": 46,
   "metadata": {
    "colab": {
     "base_uri": "https://localhost:8080/"
    },
    "id": "mrqCtmjg6_It",
    "outputId": "8a176c5c-447a-4fe4-83f1-0e1dabffac2c"
   },
   "outputs": [
    {
     "name": "stdout",
     "output_type": "stream",
     "text": [
      "Digite o nome do(a) 1º aluno(a):Carla\n",
      "Digite a nota do(a)1º aluno(a): 60\n",
      "Digite o nome do(a) 2º aluno(a):Ana\n",
      "Digite a nota do(a)2º aluno(a): 100\n",
      "Digite o nome do(a) 3º aluno(a):Carlos\n",
      "Digite a nota do(a)3º aluno(a): 40\n",
      "Digite o nome do(a) 4º aluno(a):Mario\n",
      "Digite a nota do(a)4º aluno(a): 80\n",
      "Digite o nome do(a) 5º aluno(a):Paulo\n",
      "Digite a nota do(a)5º aluno(a): 80\n",
      "[60.0, 100.0, 40.0, 80.0, 80.0]\n",
      "Aluno(a) Carla esta aprovado(a)\n",
      "Nota final: 60.0\n",
      "Aluno(a) Ana esta aprovado(a)\n",
      "Nota final: 100.0\n",
      "Aluno(a) Carlos esta reprovado(a)\n",
      "Nota final: 40.0\n",
      "Aluno(a) Mario esta aprovado(a)\n",
      "Nota final: 80.0\n",
      "Aluno(a) Paulo esta aprovado(a)\n",
      "Nota final: 80.0\n"
     ]
    }
   ],
   "source": [
    "'''\n",
    "Contexto:\n",
    "Uma escola precisa analisar as notas de seus alunos e determinar se cada aluno\n",
    "foi aprovado ou reprovado. As notas serão armazenadas em uma lista e a análise\n",
    "deve ser realizada em um loop.\n",
    "'''\n",
    "\n",
    "'''\n",
    "Requisitos:\n",
    "Peça ao usuário para inserir o nome e a nota de cinco alunos.\n",
    "Armazene os nomes e as notas em listas separadas.\n",
    "Para cada aluno, verifique se a nota é maior ou igual a 60. Se sim, o aluno está\n",
    "aprovado; caso contrário, está reprovado.\n",
    "Exiba uma mensagem para cada aluno informando seu nome, nota e se foi aprovado\n",
    "ou reprovado.\n",
    "'''\n",
    "\n",
    "notas_alunos = []\n",
    "nome_alunos = []\n",
    "\n",
    "for i in range(5):\n",
    "  nome_alunos_add = input(f'Digite o nome do(a) {i+1}º aluno(a):')\n",
    "  nome_alunos.append(nome_alunos_add)\n",
    "  notas_adicionadas = float(input(f'Digite a nota do(a){i+1}º aluno(a): '))\n",
    "  notas_alunos.append(notas_adicionadas)\n",
    "print(notas_alunos)\n",
    "\n",
    "for nome, nota in zip(nome_alunos, notas_alunos):\n",
    "  if nota >= 60:\n",
    "    print(f'Aluno(a) {nome} esta aprovado(a)')\n",
    "    print(f'Nota final: {nota}')\n",
    "  else:\n",
    "    print(f'Aluno(a) {nome} esta reprovado(a)')\n",
    "    print(f'Nota final: {nota}')\n"
   ]
  },
  {
   "cell_type": "markdown",
   "metadata": {
    "id": "DoDAFqG37QWG"
   },
   "source": [
    "# 12 - Estudo de caso 03"
   ]
  },
  {
   "cell_type": "code",
   "execution_count": null,
   "metadata": {
    "id": "34JqxL0B7Tvj"
   },
   "outputs": [],
   "source": [
    "'''\n",
    "Contexto\n",
    "Uma empresa deseja realizar uma pesquisa de opinião com cinco participantes\n",
    "sobre um novo produto. As respostas devem ser armazenadas e analisadas para\n",
    "verificar a satisfação dos clientes.\n",
    "'''\n",
    "\n",
    "'''\n",
    "Requisitos\n",
    "Peça ao usuário para inserir o nome e a opinião (satisfeito/insatisfeito) de\n",
    "cinco participantes.\n",
    "Armazene os nomes e as opiniões em um dicionário.\n",
    "Conte o número de participantes satisfeitos e insatisfeitos.\n",
    "Exiba a lista de participantes satisfeitos e insatisfeitos, bem como o número\n",
    "total de cada categoria.\n",
    "'''\n"
   ]
  },
  {
   "cell_type": "code",
   "execution_count": null,
   "metadata": {
    "colab": {
     "base_uri": "https://localhost:8080/"
    },
    "id": "kbYe-EHOY_yn",
    "outputId": "8b9e1aff-43af-46ab-8d5b-3abc4ce466bd"
   },
   "outputs": [
    {
     "name": "stdout",
     "output_type": "stream",
     "text": [
      "Digite o nome do(a) 1º participante: Ana\n",
      "Digite a opinião do(a) 1º participante:satisfeito\n",
      "Digite o nome do(a) 2º participante: Claudio\n",
      "Digite a opinião do(a) 2º participante:satisfeito\n",
      "Digite o nome do(a) 3º participante: João\n",
      "Digite a opinião do(a) 3º participante:satisfeito\n",
      "Digite o nome do(a) 4º participante: Paula\n",
      "Digite a opinião do(a) 4º participante:insatisfeito\n",
      "Digite o nome do(a) 5º participante: Carlos\n",
      "Digite a opinião do(a) 5º participante:insatisfeito\n",
      "{'Ana': 'satisfeito', 'Claudio': 'satisfeito', 'João': 'satisfeito', 'Paula': 'insatisfeito', 'Carlos': 'insatisfeito'}\n",
      "O número de clientes satisfeitos é: 3\n",
      "O número de clientes insatisfeitos é: 2\n"
     ]
    }
   ],
   "source": [
    "dicionario = {}\n",
    "\n",
    "for i in range(5):\n",
    "  nomes = input(f'Digite o nome do(a) {i+1}º participante: ')\n",
    "  opiniao = input(f'Digite a opinião do(a) {i+1}º participante:' ).lower()\n",
    "  dicionario[nomes] = opiniao\n",
    "print(dicionario)\n",
    "\n",
    "satisfeitos = 0\n",
    "insatisfeitos = 0\n",
    "\n",
    "for opiniao in dicionario.values():\n",
    "  if opiniao == 'satisfeito':\n",
    "    satisfeitos += 1\n",
    "  elif opiniao == 'insatisfeito':\n",
    "    insatisfeitos +=1\n",
    "\n",
    "print(f'O número de clientes satisfeitos é: {satisfeitos}')\n",
    "print(f'O número de clientes insatisfeitos é: {insatisfeitos}')\n",
    "\n"
   ]
  },
  {
   "cell_type": "code",
   "execution_count": null,
   "metadata": {},
   "outputs": [],
   "source": []
  }
 ],
 "metadata": {
  "colab": {
   "provenance": []
  },
  "kernelspec": {
   "display_name": "Python 3 (ipykernel)",
   "language": "python",
   "name": "python3"
  },
  "language_info": {
   "codemirror_mode": {
    "name": "ipython",
    "version": 3
   },
   "file_extension": ".py",
   "mimetype": "text/x-python",
   "name": "python",
   "nbconvert_exporter": "python",
   "pygments_lexer": "ipython3",
   "version": "3.11.5"
  }
 },
 "nbformat": 4,
 "nbformat_minor": 1
}
